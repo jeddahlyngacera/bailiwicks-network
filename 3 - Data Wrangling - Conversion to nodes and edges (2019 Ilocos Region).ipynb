{
 "cells": [
  {
   "cell_type": "markdown",
   "metadata": {},
   "source": [
    "# Network Science Final Project\n",
    "Roberto & Gacera"
   ]
  },
  {
   "cell_type": "markdown",
   "metadata": {},
   "source": [
    "## Data Wrangling\n",
    "### Conversion to nodes and edges of the 2019 election city-level results in Region I (Ilocos)\n",
    " - Network: bipartite (directed)\n",
    " - Nodes: cities and politicians\n",
    " - Edges: exists if a city voted for a politician (within a given threshold)\n",
    " - Weight: normalized votes (votes/votes of the winning candidate)"
   ]
  },
  {
   "cell_type": "code",
   "execution_count": 1,
   "metadata": {
    "ExecuteTime": {
     "end_time": "2020-03-26T08:59:48.824771Z",
     "start_time": "2020-03-26T08:59:47.165373Z"
    }
   },
   "outputs": [],
   "source": [
    "import pandas as pd\n",
    "import pickle\n",
    "import re\n",
    "\n",
    "with open('city_votes_2019.pkl', 'rb') as f:\n",
    "    df = pickle.load(f)"
   ]
  },
  {
   "cell_type": "markdown",
   "metadata": {
    "ExecuteTime": {
     "end_time": "2020-03-10T20:18:13.966907Z",
     "start_time": "2020-03-10T20:18:13.765250Z"
    }
   },
   "source": [
    "### Filter to Ilocos region"
   ]
  },
  {
   "cell_type": "code",
   "execution_count": 2,
   "metadata": {
    "ExecuteTime": {
     "end_time": "2020-03-26T08:59:48.879122Z",
     "start_time": "2020-03-26T08:59:48.827750Z"
    }
   },
   "outputs": [],
   "source": [
    "df = df[df.region=='REGION I']"
   ]
  },
  {
   "cell_type": "markdown",
   "metadata": {},
   "source": [
    "#### Retrieve party from candidate official election name"
   ]
  },
  {
   "cell_type": "code",
   "execution_count": 3,
   "metadata": {
    "ExecuteTime": {
     "end_time": "2020-03-26T08:59:48.944764Z",
     "start_time": "2020-03-26T08:59:48.881194Z"
    }
   },
   "outputs": [],
   "source": [
    "df['party'] = df.candidate.apply(lambda x: re.findall(r'\\((.*)\\)', x)[0] if len(re.findall(r'\\(.*\\)', x)) > 0 else '')\n",
    "df.loc[df.party=='', 'party'] = 'PARTY LIST'"
   ]
  },
  {
   "cell_type": "code",
   "execution_count": 4,
   "metadata": {
    "ExecuteTime": {
     "end_time": "2020-03-26T08:59:48.968258Z",
     "start_time": "2020-03-26T08:59:48.946682Z"
    }
   },
   "outputs": [
    {
     "data": {
      "text/html": [
       "<div>\n",
       "<style scoped>\n",
       "    .dataframe tbody tr th:only-of-type {\n",
       "        vertical-align: middle;\n",
       "    }\n",
       "\n",
       "    .dataframe tbody tr th {\n",
       "        vertical-align: top;\n",
       "    }\n",
       "\n",
       "    .dataframe thead th {\n",
       "        text-align: right;\n",
       "    }\n",
       "</style>\n",
       "<table border=\"1\" class=\"dataframe\">\n",
       "  <thead>\n",
       "    <tr style=\"text-align: right;\">\n",
       "      <th></th>\n",
       "      <th>region</th>\n",
       "      <th>province</th>\n",
       "      <th>city</th>\n",
       "      <th>position</th>\n",
       "      <th>candidate</th>\n",
       "      <th>candidate_party</th>\n",
       "      <th>votes</th>\n",
       "      <th>total_votes</th>\n",
       "      <th>percentage</th>\n",
       "      <th>party</th>\n",
       "    </tr>\n",
       "  </thead>\n",
       "  <tbody>\n",
       "    <tr>\n",
       "      <th>0</th>\n",
       "      <td>REGION I</td>\n",
       "      <td>ILOCOS NORTE</td>\n",
       "      <td>ADAMS</td>\n",
       "      <td>SENATOR</td>\n",
       "      <td>ABEJO, VANGIE (IND)</td>\n",
       "      <td>LGBTQ PARTY</td>\n",
       "      <td>6</td>\n",
       "      <td>5366</td>\n",
       "      <td>0.0011</td>\n",
       "      <td>IND</td>\n",
       "    </tr>\n",
       "    <tr>\n",
       "      <th>1</th>\n",
       "      <td>REGION I</td>\n",
       "      <td>ILOCOS NORTE</td>\n",
       "      <td>BACARRA</td>\n",
       "      <td>SENATOR</td>\n",
       "      <td>ABEJO, VANGIE (IND)</td>\n",
       "      <td>LGBTQ PARTY</td>\n",
       "      <td>89</td>\n",
       "      <td>87217</td>\n",
       "      <td>0.0010</td>\n",
       "      <td>IND</td>\n",
       "    </tr>\n",
       "  </tbody>\n",
       "</table>\n",
       "</div>"
      ],
      "text/plain": [
       "     region      province     city position            candidate  \\\n",
       "0  REGION I  ILOCOS NORTE    ADAMS  SENATOR  ABEJO, VANGIE (IND)   \n",
       "1  REGION I  ILOCOS NORTE  BACARRA  SENATOR  ABEJO, VANGIE (IND)   \n",
       "\n",
       "  candidate_party  votes  total_votes  percentage party  \n",
       "0     LGBTQ PARTY      6         5366      0.0011   IND  \n",
       "1     LGBTQ PARTY     89        87217      0.0010   IND  "
      ]
     },
     "execution_count": 4,
     "metadata": {},
     "output_type": "execute_result"
    }
   ],
   "source": [
    "df.head(2)"
   ]
  },
  {
   "cell_type": "markdown",
   "metadata": {},
   "source": [
    "#### Determine winning candidates by getting the maximum percentage value per position per city"
   ]
  },
  {
   "cell_type": "code",
   "execution_count": 5,
   "metadata": {
    "ExecuteTime": {
     "end_time": "2020-03-26T08:59:48.986254Z",
     "start_time": "2020-03-26T08:59:48.971185Z"
    }
   },
   "outputs": [],
   "source": [
    "maxs = df.groupby(['region', 'province', 'city', 'position']).percentage.max().reset_index()\n",
    "maxs.columns = ['region', 'province', 'city', 'position', 'maxs']"
   ]
  },
  {
   "cell_type": "code",
   "execution_count": 6,
   "metadata": {
    "ExecuteTime": {
     "end_time": "2020-03-26T08:59:49.014821Z",
     "start_time": "2020-03-26T08:59:48.987968Z"
    }
   },
   "outputs": [],
   "source": [
    "df = pd.merge(df, maxs)"
   ]
  },
  {
   "cell_type": "markdown",
   "metadata": {},
   "source": [
    "#### Compute for weight of the edges: votes/ votes of winning candidate"
   ]
  },
  {
   "cell_type": "code",
   "execution_count": 7,
   "metadata": {
    "ExecuteTime": {
     "end_time": "2020-03-26T08:59:49.028041Z",
     "start_time": "2020-03-26T08:59:49.016505Z"
    }
   },
   "outputs": [],
   "source": [
    "df['per_sc'] = df.percentage/df.maxs"
   ]
  },
  {
   "cell_type": "code",
   "execution_count": 8,
   "metadata": {
    "ExecuteTime": {
     "end_time": "2020-03-26T08:59:49.041312Z",
     "start_time": "2020-03-26T08:59:49.029784Z"
    }
   },
   "outputs": [
    {
     "data": {
      "text/html": [
       "<div>\n",
       "<style scoped>\n",
       "    .dataframe tbody tr th:only-of-type {\n",
       "        vertical-align: middle;\n",
       "    }\n",
       "\n",
       "    .dataframe tbody tr th {\n",
       "        vertical-align: top;\n",
       "    }\n",
       "\n",
       "    .dataframe thead th {\n",
       "        text-align: right;\n",
       "    }\n",
       "</style>\n",
       "<table border=\"1\" class=\"dataframe\">\n",
       "  <thead>\n",
       "    <tr style=\"text-align: right;\">\n",
       "      <th></th>\n",
       "      <th>region</th>\n",
       "      <th>province</th>\n",
       "      <th>city</th>\n",
       "      <th>position</th>\n",
       "      <th>candidate</th>\n",
       "      <th>candidate_party</th>\n",
       "      <th>votes</th>\n",
       "      <th>total_votes</th>\n",
       "      <th>percentage</th>\n",
       "      <th>party</th>\n",
       "      <th>maxs</th>\n",
       "      <th>per_sc</th>\n",
       "    </tr>\n",
       "  </thead>\n",
       "  <tbody>\n",
       "    <tr>\n",
       "      <th>0</th>\n",
       "      <td>REGION I</td>\n",
       "      <td>ILOCOS NORTE</td>\n",
       "      <td>ADAMS</td>\n",
       "      <td>SENATOR</td>\n",
       "      <td>ABEJO, VANGIE (IND)</td>\n",
       "      <td>LGBTQ PARTY</td>\n",
       "      <td>6</td>\n",
       "      <td>5366</td>\n",
       "      <td>0.0011</td>\n",
       "      <td>IND</td>\n",
       "      <td>0.1731</td>\n",
       "      <td>0.006355</td>\n",
       "    </tr>\n",
       "    <tr>\n",
       "      <th>1</th>\n",
       "      <td>REGION I</td>\n",
       "      <td>ILOCOS NORTE</td>\n",
       "      <td>ADAMS</td>\n",
       "      <td>SENATOR</td>\n",
       "      <td>AFUANG, ABNER (WPP)</td>\n",
       "      <td>LABOR PARTY PHILIPPINES</td>\n",
       "      <td>5</td>\n",
       "      <td>5366</td>\n",
       "      <td>0.0009</td>\n",
       "      <td>WPP</td>\n",
       "      <td>0.1731</td>\n",
       "      <td>0.005199</td>\n",
       "    </tr>\n",
       "  </tbody>\n",
       "</table>\n",
       "</div>"
      ],
      "text/plain": [
       "     region      province   city position            candidate  \\\n",
       "0  REGION I  ILOCOS NORTE  ADAMS  SENATOR  ABEJO, VANGIE (IND)   \n",
       "1  REGION I  ILOCOS NORTE  ADAMS  SENATOR  AFUANG, ABNER (WPP)   \n",
       "\n",
       "           candidate_party  votes  total_votes  percentage party    maxs  \\\n",
       "0              LGBTQ PARTY      6         5366      0.0011   IND  0.1731   \n",
       "1  LABOR PARTY PHILIPPINES      5         5366      0.0009   WPP  0.1731   \n",
       "\n",
       "     per_sc  \n",
       "0  0.006355  \n",
       "1  0.005199  "
      ]
     },
     "execution_count": 8,
     "metadata": {},
     "output_type": "execute_result"
    }
   ],
   "source": [
    "df.head(2)"
   ]
  },
  {
   "cell_type": "markdown",
   "metadata": {},
   "source": [
    "#### Filter to the top N candidates per position\n",
    " - senator: top 30\n",
    " - house of representative: top 5\n",
    " - mayor: top 5\n",
    " - vice mayor: top 5\n",
    " - party list: top 51\n",
    " - governor: all since there were only a few candidates\n",
    " - vice governor: all since there were only a few candidates"
   ]
  },
  {
   "cell_type": "code",
   "execution_count": 9,
   "metadata": {
    "ExecuteTime": {
     "end_time": "2020-03-26T08:59:49.083314Z",
     "start_time": "2020-03-26T08:59:49.077785Z"
    },
    "scrolled": true
   },
   "outputs": [
    {
     "data": {
      "text/plain": [
       "['MAYOR',\n",
       " 'MEMBER, HOUSE OF REPRESENTATIVES',\n",
       " 'PARTY LIST',\n",
       " 'PROVINCIAL GOVERNOR',\n",
       " 'PROVINCIAL VICE-GOVERNOR',\n",
       " 'SENATOR',\n",
       " 'VICE-MAYOR']"
      ]
     },
     "execution_count": 9,
     "metadata": {},
     "output_type": "execute_result"
    }
   ],
   "source": [
    "sorted(df.position.unique())"
   ]
  },
  {
   "cell_type": "code",
   "execution_count": 10,
   "metadata": {
    "ExecuteTime": {
     "end_time": "2020-03-26T08:59:49.463736Z",
     "start_time": "2020-03-26T08:59:49.404782Z"
    }
   },
   "outputs": [],
   "source": [
    "df = df.sort_values(['region', 'province', 'city', 'position', 'percentage'], ascending=False)\n",
    "sen = df[df.position=='SENATOR']\n",
    "rep = df[df.position=='MEMBER, HOUSE OF REPRESENTATIVES']\n",
    "mayor = df[df.position=='MAYOR']\n",
    "vmayor = df[df.position=='VICE-MAYOR']\n",
    "plist = df[df.position=='PARTY LIST']\n",
    "gov = df[df.position=='PROVINCIAL GOVERNOR']\n",
    "vgov = df[df.position=='PROVINCIAL VICE-GOVERNOR']"
   ]
  },
  {
   "cell_type": "code",
   "execution_count": 11,
   "metadata": {
    "ExecuteTime": {
     "end_time": "2020-03-26T08:59:49.644057Z",
     "start_time": "2020-03-26T08:59:49.605156Z"
    }
   },
   "outputs": [],
   "source": [
    "sens = sen.groupby(['region', 'province', 'city', 'position']).head(30)\n",
    "reps = rep.groupby(['region', 'province', 'city', 'position']).head(5)\n",
    "mayors = mayor.groupby(['region', 'province', 'city', 'position']).head(5)\n",
    "vmayors = vmayor.groupby(['region', 'province', 'city', 'position']).head(5)\n",
    "plists = plist.groupby(['region', 'province', 'city', 'position']).head(51)"
   ]
  },
  {
   "cell_type": "code",
   "execution_count": 12,
   "metadata": {
    "ExecuteTime": {
     "end_time": "2020-03-26T08:59:49.847602Z",
     "start_time": "2020-03-26T08:59:49.824071Z"
    }
   },
   "outputs": [],
   "source": [
    "df = pd.concat([sens, reps, mayors, vmayors, plists, gov, vgov]).drop(columns=['maxs'])"
   ]
  },
  {
   "cell_type": "code",
   "execution_count": 13,
   "metadata": {
    "ExecuteTime": {
     "end_time": "2020-03-26T08:59:50.052845Z",
     "start_time": "2020-03-26T08:59:50.035734Z"
    }
   },
   "outputs": [
    {
     "data": {
      "text/html": [
       "<div>\n",
       "<style scoped>\n",
       "    .dataframe tbody tr th:only-of-type {\n",
       "        vertical-align: middle;\n",
       "    }\n",
       "\n",
       "    .dataframe tbody tr th {\n",
       "        vertical-align: top;\n",
       "    }\n",
       "\n",
       "    .dataframe thead th {\n",
       "        text-align: right;\n",
       "    }\n",
       "</style>\n",
       "<table border=\"1\" class=\"dataframe\">\n",
       "  <thead>\n",
       "    <tr style=\"text-align: right;\">\n",
       "      <th></th>\n",
       "      <th>region</th>\n",
       "      <th>province</th>\n",
       "      <th>city</th>\n",
       "      <th>position</th>\n",
       "      <th>candidate</th>\n",
       "      <th>candidate_party</th>\n",
       "      <th>votes</th>\n",
       "      <th>total_votes</th>\n",
       "      <th>percentage</th>\n",
       "      <th>party</th>\n",
       "      <th>per_sc</th>\n",
       "    </tr>\n",
       "  </thead>\n",
       "  <tbody>\n",
       "    <tr>\n",
       "      <th>7687</th>\n",
       "      <td>REGION I</td>\n",
       "      <td>PANGASINAN</td>\n",
       "      <td>VILLASIS</td>\n",
       "      <td>SENATOR</td>\n",
       "      <td>VILLAR, CYNTHIA (NP)</td>\n",
       "      <td>NACIONALISTA PARTY</td>\n",
       "      <td>21830</td>\n",
       "      <td>277610</td>\n",
       "      <td>0.0786</td>\n",
       "      <td>NP</td>\n",
       "      <td>1.000000</td>\n",
       "    </tr>\n",
       "    <tr>\n",
       "      <th>7680</th>\n",
       "      <td>REGION I</td>\n",
       "      <td>PANGASINAN</td>\n",
       "      <td>VILLASIS</td>\n",
       "      <td>SENATOR</td>\n",
       "      <td>POE, GRACE (IND)</td>\n",
       "      <td>LGBTQ PARTY</td>\n",
       "      <td>21041</td>\n",
       "      <td>277610</td>\n",
       "      <td>0.0757</td>\n",
       "      <td>IND</td>\n",
       "      <td>0.963104</td>\n",
       "    </tr>\n",
       "  </tbody>\n",
       "</table>\n",
       "</div>"
      ],
      "text/plain": [
       "        region    province      city position             candidate  \\\n",
       "7687  REGION I  PANGASINAN  VILLASIS  SENATOR  VILLAR, CYNTHIA (NP)   \n",
       "7680  REGION I  PANGASINAN  VILLASIS  SENATOR      POE, GRACE (IND)   \n",
       "\n",
       "         candidate_party  votes  total_votes  percentage party    per_sc  \n",
       "7687  NACIONALISTA PARTY  21830       277610      0.0786    NP  1.000000  \n",
       "7680         LGBTQ PARTY  21041       277610      0.0757   IND  0.963104  "
      ]
     },
     "execution_count": 13,
     "metadata": {},
     "output_type": "execute_result"
    }
   ],
   "source": [
    "df.head(2)"
   ]
  },
  {
   "cell_type": "markdown",
   "metadata": {},
   "source": [
    "### Create nodes table"
   ]
  },
  {
   "cell_type": "markdown",
   "metadata": {},
   "source": [
    "#### Retrieve unique cities\n",
    "Since some cities have the same name, get the unique cities using `province` and `city` columns."
   ]
  },
  {
   "cell_type": "code",
   "execution_count": 14,
   "metadata": {
    "ExecuteTime": {
     "end_time": "2020-03-26T08:59:51.193267Z",
     "start_time": "2020-03-26T08:59:51.178304Z"
    }
   },
   "outputs": [],
   "source": [
    "cities = df[['province', 'city']].drop_duplicates().reset_index(drop=True).reset_index()"
   ]
  },
  {
   "cell_type": "markdown",
   "metadata": {},
   "source": [
    "#### Set node type to CITY"
   ]
  },
  {
   "cell_type": "code",
   "execution_count": 15,
   "metadata": {
    "ExecuteTime": {
     "end_time": "2020-03-26T08:59:51.609046Z",
     "start_time": "2020-03-26T08:59:51.603725Z"
    }
   },
   "outputs": [],
   "source": [
    "cities['Node_Type'] = 'CITY'"
   ]
  },
  {
   "cell_type": "code",
   "execution_count": 16,
   "metadata": {
    "ExecuteTime": {
     "end_time": "2020-03-26T08:59:51.775954Z",
     "start_time": "2020-03-26T08:59:51.771521Z"
    }
   },
   "outputs": [],
   "source": [
    "cities.columns = ['Id', 'province', 'city', 'Node_Type']"
   ]
  },
  {
   "cell_type": "code",
   "execution_count": 17,
   "metadata": {
    "ExecuteTime": {
     "end_time": "2020-03-26T08:59:51.952190Z",
     "start_time": "2020-03-26T08:59:51.945458Z"
    }
   },
   "outputs": [],
   "source": [
    "cities['Label'] = cities.province + '/' + cities.city"
   ]
  },
  {
   "cell_type": "code",
   "execution_count": 18,
   "metadata": {
    "ExecuteTime": {
     "end_time": "2020-03-26T08:59:52.129466Z",
     "start_time": "2020-03-26T08:59:52.122115Z"
    }
   },
   "outputs": [],
   "source": [
    "cities = cities[['Id', 'Label', 'Node_Type']]"
   ]
  },
  {
   "cell_type": "code",
   "execution_count": 19,
   "metadata": {
    "ExecuteTime": {
     "end_time": "2020-03-26T08:59:52.326651Z",
     "start_time": "2020-03-26T08:59:52.313880Z"
    }
   },
   "outputs": [
    {
     "data": {
      "text/html": [
       "<div>\n",
       "<style scoped>\n",
       "    .dataframe tbody tr th:only-of-type {\n",
       "        vertical-align: middle;\n",
       "    }\n",
       "\n",
       "    .dataframe tbody tr th {\n",
       "        vertical-align: top;\n",
       "    }\n",
       "\n",
       "    .dataframe thead th {\n",
       "        text-align: right;\n",
       "    }\n",
       "</style>\n",
       "<table border=\"1\" class=\"dataframe\">\n",
       "  <thead>\n",
       "    <tr style=\"text-align: right;\">\n",
       "      <th></th>\n",
       "      <th>Id</th>\n",
       "      <th>Label</th>\n",
       "      <th>Node_Type</th>\n",
       "    </tr>\n",
       "  </thead>\n",
       "  <tbody>\n",
       "    <tr>\n",
       "      <th>120</th>\n",
       "      <td>120</td>\n",
       "      <td>ILOCOS NORTE/BANNA (ESPIRITU)</td>\n",
       "      <td>CITY</td>\n",
       "    </tr>\n",
       "    <tr>\n",
       "      <th>121</th>\n",
       "      <td>121</td>\n",
       "      <td>ILOCOS NORTE/BANGUI</td>\n",
       "      <td>CITY</td>\n",
       "    </tr>\n",
       "    <tr>\n",
       "      <th>122</th>\n",
       "      <td>122</td>\n",
       "      <td>ILOCOS NORTE/BADOC</td>\n",
       "      <td>CITY</td>\n",
       "    </tr>\n",
       "    <tr>\n",
       "      <th>123</th>\n",
       "      <td>123</td>\n",
       "      <td>ILOCOS NORTE/BACARRA</td>\n",
       "      <td>CITY</td>\n",
       "    </tr>\n",
       "    <tr>\n",
       "      <th>124</th>\n",
       "      <td>124</td>\n",
       "      <td>ILOCOS NORTE/ADAMS</td>\n",
       "      <td>CITY</td>\n",
       "    </tr>\n",
       "  </tbody>\n",
       "</table>\n",
       "</div>"
      ],
      "text/plain": [
       "      Id                          Label Node_Type\n",
       "120  120  ILOCOS NORTE/BANNA (ESPIRITU)      CITY\n",
       "121  121            ILOCOS NORTE/BANGUI      CITY\n",
       "122  122             ILOCOS NORTE/BADOC      CITY\n",
       "123  123           ILOCOS NORTE/BACARRA      CITY\n",
       "124  124             ILOCOS NORTE/ADAMS      CITY"
      ]
     },
     "execution_count": 19,
     "metadata": {},
     "output_type": "execute_result"
    }
   ],
   "source": [
    "cities.tail()"
   ]
  },
  {
   "cell_type": "markdown",
   "metadata": {},
   "source": [
    "#### Retrieve unique politicians"
   ]
  },
  {
   "cell_type": "code",
   "execution_count": 20,
   "metadata": {
    "ExecuteTime": {
     "end_time": "2020-03-26T08:59:52.997887Z",
     "start_time": "2020-03-26T08:59:52.982833Z"
    }
   },
   "outputs": [],
   "source": [
    "pols = df[['candidate', 'party']].drop_duplicates().reset_index(drop=True).reset_index()"
   ]
  },
  {
   "cell_type": "code",
   "execution_count": 21,
   "metadata": {
    "ExecuteTime": {
     "end_time": "2020-03-26T08:59:53.220301Z",
     "start_time": "2020-03-26T08:59:53.216624Z"
    }
   },
   "outputs": [],
   "source": [
    "pols.columns = ['Id', 'Label', 'Node_Type']"
   ]
  },
  {
   "cell_type": "markdown",
   "metadata": {},
   "source": [
    "#### Change Id such that it continues from the city Id values"
   ]
  },
  {
   "cell_type": "code",
   "execution_count": 22,
   "metadata": {
    "ExecuteTime": {
     "end_time": "2020-03-26T08:59:53.575817Z",
     "start_time": "2020-03-26T08:59:53.570551Z"
    }
   },
   "outputs": [],
   "source": [
    "pols.Id = pols.Id + 125"
   ]
  },
  {
   "cell_type": "code",
   "execution_count": 23,
   "metadata": {
    "ExecuteTime": {
     "end_time": "2020-03-26T08:59:53.761428Z",
     "start_time": "2020-03-26T08:59:53.749152Z"
    }
   },
   "outputs": [
    {
     "data": {
      "text/html": [
       "<div>\n",
       "<style scoped>\n",
       "    .dataframe tbody tr th:only-of-type {\n",
       "        vertical-align: middle;\n",
       "    }\n",
       "\n",
       "    .dataframe tbody tr th {\n",
       "        vertical-align: top;\n",
       "    }\n",
       "\n",
       "    .dataframe thead th {\n",
       "        text-align: right;\n",
       "    }\n",
       "</style>\n",
       "<table border=\"1\" class=\"dataframe\">\n",
       "  <thead>\n",
       "    <tr style=\"text-align: right;\">\n",
       "      <th></th>\n",
       "      <th>Id</th>\n",
       "      <th>Label</th>\n",
       "      <th>Node_Type</th>\n",
       "    </tr>\n",
       "  </thead>\n",
       "  <tbody>\n",
       "    <tr>\n",
       "      <th>733</th>\n",
       "      <td>858</td>\n",
       "      <td>AQUINO, JULIUS (KDP)</td>\n",
       "      <td>KDP</td>\n",
       "    </tr>\n",
       "    <tr>\n",
       "      <th>734</th>\n",
       "      <td>859</td>\n",
       "      <td>SINGSON, JERRY (BILEG)</td>\n",
       "      <td>BILEG</td>\n",
       "    </tr>\n",
       "    <tr>\n",
       "      <th>735</th>\n",
       "      <td>860</td>\n",
       "      <td>ZARAGOZA, ANICKA (PDPLBN)</td>\n",
       "      <td>PDPLBN</td>\n",
       "    </tr>\n",
       "    <tr>\n",
       "      <th>736</th>\n",
       "      <td>861</td>\n",
       "      <td>MARCOS, MARIANO II (NP)</td>\n",
       "      <td>NP</td>\n",
       "    </tr>\n",
       "    <tr>\n",
       "      <th>737</th>\n",
       "      <td>862</td>\n",
       "      <td>RAMONES, MICHAEL (PDPLBN)</td>\n",
       "      <td>PDPLBN</td>\n",
       "    </tr>\n",
       "  </tbody>\n",
       "</table>\n",
       "</div>"
      ],
      "text/plain": [
       "      Id                      Label Node_Type\n",
       "733  858       AQUINO, JULIUS (KDP)       KDP\n",
       "734  859     SINGSON, JERRY (BILEG)     BILEG\n",
       "735  860  ZARAGOZA, ANICKA (PDPLBN)    PDPLBN\n",
       "736  861    MARCOS, MARIANO II (NP)        NP\n",
       "737  862  RAMONES, MICHAEL (PDPLBN)    PDPLBN"
      ]
     },
     "execution_count": 23,
     "metadata": {},
     "output_type": "execute_result"
    }
   ],
   "source": [
    "pols.tail()"
   ]
  },
  {
   "cell_type": "markdown",
   "metadata": {},
   "source": [
    "#### Combine cities and politicians into 1 table"
   ]
  },
  {
   "cell_type": "code",
   "execution_count": 24,
   "metadata": {
    "ExecuteTime": {
     "end_time": "2020-03-26T08:59:54.717867Z",
     "start_time": "2020-03-26T08:59:54.710444Z"
    }
   },
   "outputs": [],
   "source": [
    "nodes = pd.concat([cities, pols]).reset_index(drop=True)"
   ]
  },
  {
   "cell_type": "code",
   "execution_count": 25,
   "metadata": {
    "ExecuteTime": {
     "end_time": "2020-03-26T08:59:54.912736Z",
     "start_time": "2020-03-26T08:59:54.906271Z"
    }
   },
   "outputs": [],
   "source": [
    "with open('ILOCOS_nodes_2019.pkl', 'wb') as f:\n",
    "    pickle.dump(nodes, f)"
   ]
  },
  {
   "cell_type": "code",
   "execution_count": 26,
   "metadata": {
    "ExecuteTime": {
     "end_time": "2020-03-26T08:59:57.264414Z",
     "start_time": "2020-03-26T08:59:55.428168Z"
    }
   },
   "outputs": [],
   "source": [
    "nodes.to_csv('ILOCOS_nodes_2019.csv', index=False)"
   ]
  },
  {
   "cell_type": "markdown",
   "metadata": {},
   "source": [
    "### Filter rows with only the significant normalized votes (>= median)"
   ]
  },
  {
   "cell_type": "code",
   "execution_count": 27,
   "metadata": {
    "ExecuteTime": {
     "end_time": "2020-03-26T08:59:57.275086Z",
     "start_time": "2020-03-26T08:59:57.266391Z"
    }
   },
   "outputs": [
    {
     "data": {
      "text/plain": [
       "count    11480.000000\n",
       "mean         0.221897\n",
       "std          0.309492\n",
       "min          0.000000\n",
       "25%          0.014144\n",
       "50%          0.060663\n",
       "75%          0.316539\n",
       "max          1.000000\n",
       "Name: per_sc, dtype: float64"
      ]
     },
     "execution_count": 27,
     "metadata": {},
     "output_type": "execute_result"
    }
   ],
   "source": [
    "df.per_sc.describe()"
   ]
  },
  {
   "cell_type": "code",
   "execution_count": 28,
   "metadata": {
    "ExecuteTime": {
     "end_time": "2020-03-26T08:59:59.765285Z",
     "start_time": "2020-03-26T08:59:59.759368Z"
    }
   },
   "outputs": [
    {
     "data": {
      "text/plain": [
       "(11480, 11)"
      ]
     },
     "execution_count": 28,
     "metadata": {},
     "output_type": "execute_result"
    }
   ],
   "source": [
    "df.shape"
   ]
  },
  {
   "cell_type": "code",
   "execution_count": 29,
   "metadata": {
    "ExecuteTime": {
     "end_time": "2020-03-26T09:00:01.085020Z",
     "start_time": "2020-03-26T09:00:01.072027Z"
    }
   },
   "outputs": [],
   "source": [
    "df = df[df.per_sc>=0.060663]"
   ]
  },
  {
   "cell_type": "code",
   "execution_count": 30,
   "metadata": {
    "ExecuteTime": {
     "end_time": "2020-03-26T09:00:01.813419Z",
     "start_time": "2020-03-26T09:00:01.807452Z"
    }
   },
   "outputs": [
    {
     "data": {
      "text/plain": [
       "(5740, 11)"
      ]
     },
     "execution_count": 30,
     "metadata": {},
     "output_type": "execute_result"
    }
   ],
   "source": [
    "df.shape"
   ]
  },
  {
   "cell_type": "code",
   "execution_count": 31,
   "metadata": {
    "ExecuteTime": {
     "end_time": "2020-03-26T09:00:43.097856Z",
     "start_time": "2020-03-26T09:00:43.087785Z"
    }
   },
   "outputs": [],
   "source": [
    "df['prov_city'] = df.province + '/' + df.city"
   ]
  },
  {
   "cell_type": "markdown",
   "metadata": {},
   "source": [
    "### Create combined table of main dataframe and node labels (for future reference)"
   ]
  },
  {
   "cell_type": "code",
   "execution_count": 33,
   "metadata": {
    "ExecuteTime": {
     "end_time": "2020-03-26T09:01:17.271487Z",
     "start_time": "2020-03-26T09:01:17.253951Z"
    }
   },
   "outputs": [],
   "source": [
    "df = pd.merge(df, nodes, left_on='prov_city', right_on='Label')"
   ]
  },
  {
   "cell_type": "code",
   "execution_count": 34,
   "metadata": {
    "ExecuteTime": {
     "end_time": "2020-03-26T09:01:18.867256Z",
     "start_time": "2020-03-26T09:01:18.849244Z"
    }
   },
   "outputs": [],
   "source": [
    "df = pd.merge(df, nodes, left_on='candidate', right_on='Label')"
   ]
  },
  {
   "cell_type": "code",
   "execution_count": 35,
   "metadata": {
    "ExecuteTime": {
     "end_time": "2020-03-26T09:01:20.563373Z",
     "start_time": "2020-03-26T09:01:20.535793Z"
    }
   },
   "outputs": [
    {
     "data": {
      "text/plain": [
       "(5740, 18)"
      ]
     },
     "execution_count": 35,
     "metadata": {},
     "output_type": "execute_result"
    }
   ],
   "source": [
    "df.shape"
   ]
  },
  {
   "cell_type": "code",
   "execution_count": 36,
   "metadata": {
    "ExecuteTime": {
     "end_time": "2020-03-26T09:01:24.772617Z",
     "start_time": "2020-03-26T09:01:24.739012Z"
    }
   },
   "outputs": [
    {
     "data": {
      "text/html": [
       "<div>\n",
       "<style scoped>\n",
       "    .dataframe tbody tr th:only-of-type {\n",
       "        vertical-align: middle;\n",
       "    }\n",
       "\n",
       "    .dataframe tbody tr th {\n",
       "        vertical-align: top;\n",
       "    }\n",
       "\n",
       "    .dataframe thead th {\n",
       "        text-align: right;\n",
       "    }\n",
       "</style>\n",
       "<table border=\"1\" class=\"dataframe\">\n",
       "  <thead>\n",
       "    <tr style=\"text-align: right;\">\n",
       "      <th></th>\n",
       "      <th>region</th>\n",
       "      <th>province</th>\n",
       "      <th>city</th>\n",
       "      <th>position</th>\n",
       "      <th>candidate</th>\n",
       "      <th>candidate_party</th>\n",
       "      <th>votes</th>\n",
       "      <th>total_votes</th>\n",
       "      <th>percentage</th>\n",
       "      <th>party</th>\n",
       "      <th>per_sc</th>\n",
       "      <th>prov_city</th>\n",
       "      <th>Id_x</th>\n",
       "      <th>Label_x</th>\n",
       "      <th>Node_Type_x</th>\n",
       "      <th>Id_y</th>\n",
       "      <th>Label_y</th>\n",
       "      <th>Node_Type_y</th>\n",
       "    </tr>\n",
       "  </thead>\n",
       "  <tbody>\n",
       "    <tr>\n",
       "      <th>0</th>\n",
       "      <td>REGION I</td>\n",
       "      <td>PANGASINAN</td>\n",
       "      <td>VILLASIS</td>\n",
       "      <td>SENATOR</td>\n",
       "      <td>VILLAR, CYNTHIA (NP)</td>\n",
       "      <td>NACIONALISTA PARTY</td>\n",
       "      <td>21830</td>\n",
       "      <td>277610</td>\n",
       "      <td>0.0786</td>\n",
       "      <td>NP</td>\n",
       "      <td>1.000000</td>\n",
       "      <td>PANGASINAN/VILLASIS</td>\n",
       "      <td>0</td>\n",
       "      <td>PANGASINAN/VILLASIS</td>\n",
       "      <td>CITY</td>\n",
       "      <td>125</td>\n",
       "      <td>VILLAR, CYNTHIA (NP)</td>\n",
       "      <td>NP</td>\n",
       "    </tr>\n",
       "    <tr>\n",
       "      <th>1</th>\n",
       "      <td>REGION I</td>\n",
       "      <td>PANGASINAN</td>\n",
       "      <td>URDANETA CITY</td>\n",
       "      <td>SENATOR</td>\n",
       "      <td>VILLAR, CYNTHIA (NP)</td>\n",
       "      <td>NACIONALISTA PARTY</td>\n",
       "      <td>42312</td>\n",
       "      <td>586456</td>\n",
       "      <td>0.0721</td>\n",
       "      <td>NP</td>\n",
       "      <td>0.990385</td>\n",
       "      <td>PANGASINAN/URDANETA CITY</td>\n",
       "      <td>1</td>\n",
       "      <td>PANGASINAN/URDANETA CITY</td>\n",
       "      <td>CITY</td>\n",
       "      <td>125</td>\n",
       "      <td>VILLAR, CYNTHIA (NP)</td>\n",
       "      <td>NP</td>\n",
       "    </tr>\n",
       "  </tbody>\n",
       "</table>\n",
       "</div>"
      ],
      "text/plain": [
       "     region    province           city position             candidate  \\\n",
       "0  REGION I  PANGASINAN       VILLASIS  SENATOR  VILLAR, CYNTHIA (NP)   \n",
       "1  REGION I  PANGASINAN  URDANETA CITY  SENATOR  VILLAR, CYNTHIA (NP)   \n",
       "\n",
       "      candidate_party  votes  total_votes  percentage party    per_sc  \\\n",
       "0  NACIONALISTA PARTY  21830       277610      0.0786    NP  1.000000   \n",
       "1  NACIONALISTA PARTY  42312       586456      0.0721    NP  0.990385   \n",
       "\n",
       "                  prov_city  Id_x                   Label_x Node_Type_x  Id_y  \\\n",
       "0       PANGASINAN/VILLASIS     0       PANGASINAN/VILLASIS        CITY   125   \n",
       "1  PANGASINAN/URDANETA CITY     1  PANGASINAN/URDANETA CITY        CITY   125   \n",
       "\n",
       "                Label_y Node_Type_y  \n",
       "0  VILLAR, CYNTHIA (NP)          NP  \n",
       "1  VILLAR, CYNTHIA (NP)          NP  "
      ]
     },
     "execution_count": 36,
     "metadata": {},
     "output_type": "execute_result"
    }
   ],
   "source": [
    "df.head(2)"
   ]
  },
  {
   "cell_type": "code",
   "execution_count": 41,
   "metadata": {
    "ExecuteTime": {
     "end_time": "2020-03-26T09:02:26.465640Z",
     "start_time": "2020-03-26T09:02:26.425508Z"
    }
   },
   "outputs": [],
   "source": [
    "with open('ILOCOS_df_2019.pkl', 'wb') as f:\n",
    "    pickle.dump(df, f)"
   ]
  },
  {
   "cell_type": "markdown",
   "metadata": {},
   "source": [
    "### Create edges table"
   ]
  },
  {
   "cell_type": "code",
   "execution_count": 42,
   "metadata": {
    "ExecuteTime": {
     "end_time": "2020-03-26T09:02:45.500144Z",
     "start_time": "2020-03-26T09:02:45.488926Z"
    }
   },
   "outputs": [],
   "source": [
    "edges = df[['Id_x', 'Id_y', 'per_sc', 'position']]"
   ]
  },
  {
   "cell_type": "code",
   "execution_count": 43,
   "metadata": {
    "ExecuteTime": {
     "end_time": "2020-03-26T09:02:49.216446Z",
     "start_time": "2020-03-26T09:02:49.211462Z"
    }
   },
   "outputs": [],
   "source": [
    "edges.columns = ['Source', 'Target', 'Weight', 'Position']"
   ]
  },
  {
   "cell_type": "markdown",
   "metadata": {},
   "source": [
    "#### Edge table:\n",
    "- Source: city Id\n",
    "- Target: politician Id\n",
    "- Weight: normalized vote"
   ]
  },
  {
   "cell_type": "code",
   "execution_count": 44,
   "metadata": {
    "ExecuteTime": {
     "end_time": "2020-03-26T09:03:02.517381Z",
     "start_time": "2020-03-26T09:03:02.503531Z"
    }
   },
   "outputs": [
    {
     "data": {
      "text/html": [
       "<div>\n",
       "<style scoped>\n",
       "    .dataframe tbody tr th:only-of-type {\n",
       "        vertical-align: middle;\n",
       "    }\n",
       "\n",
       "    .dataframe tbody tr th {\n",
       "        vertical-align: top;\n",
       "    }\n",
       "\n",
       "    .dataframe thead th {\n",
       "        text-align: right;\n",
       "    }\n",
       "</style>\n",
       "<table border=\"1\" class=\"dataframe\">\n",
       "  <thead>\n",
       "    <tr style=\"text-align: right;\">\n",
       "      <th></th>\n",
       "      <th>Source</th>\n",
       "      <th>Target</th>\n",
       "      <th>Weight</th>\n",
       "      <th>Position</th>\n",
       "    </tr>\n",
       "  </thead>\n",
       "  <tbody>\n",
       "    <tr>\n",
       "      <th>0</th>\n",
       "      <td>0</td>\n",
       "      <td>125</td>\n",
       "      <td>1.000000</td>\n",
       "      <td>SENATOR</td>\n",
       "    </tr>\n",
       "    <tr>\n",
       "      <th>1</th>\n",
       "      <td>1</td>\n",
       "      <td>125</td>\n",
       "      <td>0.990385</td>\n",
       "      <td>SENATOR</td>\n",
       "    </tr>\n",
       "  </tbody>\n",
       "</table>\n",
       "</div>"
      ],
      "text/plain": [
       "   Source  Target    Weight Position\n",
       "0       0     125  1.000000  SENATOR\n",
       "1       1     125  0.990385  SENATOR"
      ]
     },
     "execution_count": 44,
     "metadata": {},
     "output_type": "execute_result"
    }
   ],
   "source": [
    "edges.head(2)"
   ]
  },
  {
   "cell_type": "code",
   "execution_count": 47,
   "metadata": {
    "ExecuteTime": {
     "end_time": "2020-03-26T09:03:34.453715Z",
     "start_time": "2020-03-26T09:03:34.443971Z"
    }
   },
   "outputs": [],
   "source": [
    "with open('ILOCOS_edges_2019.pkl', 'wb') as f:\n",
    "    pickle.dump(edges, f)"
   ]
  },
  {
   "cell_type": "code",
   "execution_count": 48,
   "metadata": {
    "ExecuteTime": {
     "end_time": "2020-03-26T09:03:34.637385Z",
     "start_time": "2020-03-26T09:03:34.590871Z"
    }
   },
   "outputs": [],
   "source": [
    "edges.to_csv('ILOCOS_edges_2019.csv', index=False)"
   ]
  },
  {
   "cell_type": "code",
   "execution_count": null,
   "metadata": {},
   "outputs": [],
   "source": []
  }
 ],
 "metadata": {
  "kernelspec": {
   "display_name": "Python 3",
   "language": "python",
   "name": "python3"
  },
  "language_info": {
   "codemirror_mode": {
    "name": "ipython",
    "version": 3
   },
   "file_extension": ".py",
   "mimetype": "text/x-python",
   "name": "python",
   "nbconvert_exporter": "python",
   "pygments_lexer": "ipython3",
   "version": "3.7.3"
  }
 },
 "nbformat": 4,
 "nbformat_minor": 2
}
