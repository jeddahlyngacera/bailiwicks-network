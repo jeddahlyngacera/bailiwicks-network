{
 "cells": [
  {
   "cell_type": "markdown",
   "metadata": {},
   "source": [
    "# Network Science Final Project\n",
    "Roberto & Gacera"
   ]
  },
  {
   "cell_type": "markdown",
   "metadata": {},
   "source": [
    "## Data Collection\n",
    "2019 election results is collected from jojie `/mnt/data/public/elections/nle2019/contests/`"
   ]
  },
  {
   "cell_type": "code",
   "execution_count": 1,
   "metadata": {
    "ExecuteTime": {
     "end_time": "2020-03-09T10:31:35.032580Z",
     "start_time": "2020-03-09T10:31:33.651524Z"
    }
   },
   "outputs": [],
   "source": [
    "import sqlite3\n",
    "import pandas as pd\n",
    "import glob\n",
    "import re\n",
    "import datetime\n",
    "import pickle\n",
    "import glob"
   ]
  },
  {
   "cell_type": "markdown",
   "metadata": {},
   "source": [
    "### Get all 2019 election contest files"
   ]
  },
  {
   "cell_type": "code",
   "execution_count": 2,
   "metadata": {
    "ExecuteTime": {
     "end_time": "2020-03-09T10:31:36.517555Z",
     "start_time": "2020-03-09T10:31:35.738135Z"
    }
   },
   "outputs": [],
   "source": [
    "%%bash --out contests_file\n",
    "find /mnt/data/public/elections/nle2019/contests/ -type f -name *.json"
   ]
  },
  {
   "cell_type": "code",
   "execution_count": 3,
   "metadata": {
    "ExecuteTime": {
     "end_time": "2020-03-09T10:31:37.306809Z",
     "start_time": "2020-03-09T10:31:37.297479Z"
    }
   },
   "outputs": [],
   "source": [
    "contests = [i for i in contests_file.split('\\n') if i]"
   ]
  },
  {
   "cell_type": "code",
   "execution_count": 4,
   "metadata": {
    "ExecuteTime": {
     "end_time": "2020-03-09T10:31:37.857514Z",
     "start_time": "2020-03-09T10:31:37.836245Z"
    }
   },
   "outputs": [
    {
     "data": {
      "text/plain": [
       "'/mnt/data/public/elections/nle2019/contests/4438.json'"
      ]
     },
     "execution_count": 4,
     "metadata": {},
     "output_type": "execute_result"
    }
   ],
   "source": [
    "contests[0]"
   ]
  },
  {
   "cell_type": "code",
   "execution_count": 5,
   "metadata": {
    "ExecuteTime": {
     "end_time": "2020-03-09T10:31:49.042785Z",
     "start_time": "2020-03-09T10:31:42.546968Z"
    }
   },
   "outputs": [],
   "source": [
    "values = []\n",
    "for c in contests:\n",
    "    with open(c, 'r') as f:\n",
    "        data = json.load(f)\n",
    "    for i in data['bos']:\n",
    "        values.append((c, data['cc'], data['cn'], data['ccn'], i['boc'], i['bon'], i['pn']))"
   ]
  },
  {
   "cell_type": "code",
   "execution_count": 6,
   "metadata": {
    "ExecuteTime": {
     "end_time": "2020-03-09T10:31:49.622309Z",
     "start_time": "2020-03-09T10:31:49.611299Z"
    }
   },
   "outputs": [
    {
     "data": {
      "text/plain": [
       "[('/mnt/data/public/elections/nle2019/contests/4438.json',\n",
       "  4438,\n",
       "  'MEMBER, SANGGUNIANG BAYAN ILOCOS NORTE - BANGUI   - LONE DIST',\n",
       "  'COUNCILOR',\n",
       "  20963,\n",
       "  'ACOBA, ROGELIO (NP)',\n",
       "  'NACIONALISTA PARTY'),\n",
       " ('/mnt/data/public/elections/nle2019/contests/4438.json',\n",
       "  4438,\n",
       "  'MEMBER, SANGGUNIANG BAYAN ILOCOS NORTE - BANGUI   - LONE DIST',\n",
       "  'COUNCILOR',\n",
       "  20964,\n",
       "  'BALBAG, ROGERICK (NP)',\n",
       "  'NACIONALISTA PARTY')]"
      ]
     },
     "execution_count": 6,
     "metadata": {},
     "output_type": "execute_result"
    }
   ],
   "source": [
    "values[:2]"
   ]
  },
  {
   "cell_type": "code",
   "execution_count": 7,
   "metadata": {
    "ExecuteTime": {
     "end_time": "2020-03-09T10:31:51.044407Z",
     "start_time": "2020-03-09T10:31:50.897676Z"
    }
   },
   "outputs": [],
   "source": [
    "conn = sqlite3.connect('elvotes2019.db')\n",
    "conn.executescript('''\n",
    "DROP TABLE IF EXISTS prep1_2019;\n",
    "CREATE TABLE prep1_2019 (\n",
    "    c_file      VARCHAR,\n",
    "    cc          VARCHAR,\n",
    "    cn          VARCHAR,\n",
    "    ccn         VARCHAR,\n",
    "    bo          VARCHAR,\n",
    "    bon         VARCHAR,\n",
    "    pn          VARCHAR\n",
    ");\n",
    "''')\n",
    "conn.commit()\n",
    "\n",
    "conn.executemany('''INSERT INTO prep1_2019 VALUES (?, ?, ?, ?, ?, ?, ?)''', values)\n",
    "conn.commit()"
   ]
  },
  {
   "cell_type": "code",
   "execution_count": 8,
   "metadata": {
    "ExecuteTime": {
     "end_time": "2020-03-09T10:31:53.072819Z",
     "start_time": "2020-03-09T10:31:52.793602Z"
    }
   },
   "outputs": [],
   "source": [
    "df = pd.read_sql('SELECT * FROM prep1_2019', conn)"
   ]
  },
  {
   "cell_type": "code",
   "execution_count": 9,
   "metadata": {
    "ExecuteTime": {
     "end_time": "2020-03-09T10:31:53.570663Z",
     "start_time": "2020-03-09T10:31:53.546197Z"
    }
   },
   "outputs": [
    {
     "data": {
      "text/html": [
       "<div>\n",
       "<style scoped>\n",
       "    .dataframe tbody tr th:only-of-type {\n",
       "        vertical-align: middle;\n",
       "    }\n",
       "\n",
       "    .dataframe tbody tr th {\n",
       "        vertical-align: top;\n",
       "    }\n",
       "\n",
       "    .dataframe thead th {\n",
       "        text-align: right;\n",
       "    }\n",
       "</style>\n",
       "<table border=\"1\" class=\"dataframe\">\n",
       "  <thead>\n",
       "    <tr style=\"text-align: right;\">\n",
       "      <th></th>\n",
       "      <th>c_file</th>\n",
       "      <th>cc</th>\n",
       "      <th>cn</th>\n",
       "      <th>ccn</th>\n",
       "      <th>bo</th>\n",
       "      <th>bon</th>\n",
       "      <th>pn</th>\n",
       "    </tr>\n",
       "  </thead>\n",
       "  <tbody>\n",
       "    <tr>\n",
       "      <th>0</th>\n",
       "      <td>/mnt/data/public/elections/nle2019/contests/44...</td>\n",
       "      <td>4438</td>\n",
       "      <td>MEMBER, SANGGUNIANG BAYAN ILOCOS NORTE - BANGU...</td>\n",
       "      <td>COUNCILOR</td>\n",
       "      <td>20963</td>\n",
       "      <td>ACOBA, ROGELIO (NP)</td>\n",
       "      <td>NACIONALISTA PARTY</td>\n",
       "    </tr>\n",
       "    <tr>\n",
       "      <th>1</th>\n",
       "      <td>/mnt/data/public/elections/nle2019/contests/44...</td>\n",
       "      <td>4438</td>\n",
       "      <td>MEMBER, SANGGUNIANG BAYAN ILOCOS NORTE - BANGU...</td>\n",
       "      <td>COUNCILOR</td>\n",
       "      <td>20964</td>\n",
       "      <td>BALBAG, ROGERICK (NP)</td>\n",
       "      <td>NACIONALISTA PARTY</td>\n",
       "    </tr>\n",
       "    <tr>\n",
       "      <th>2</th>\n",
       "      <td>/mnt/data/public/elections/nle2019/contests/44...</td>\n",
       "      <td>4438</td>\n",
       "      <td>MEMBER, SANGGUNIANG BAYAN ILOCOS NORTE - BANGU...</td>\n",
       "      <td>COUNCILOR</td>\n",
       "      <td>20965</td>\n",
       "      <td>CAMPAÑANO, ANTHONY (NP)</td>\n",
       "      <td>NACIONALISTA PARTY</td>\n",
       "    </tr>\n",
       "    <tr>\n",
       "      <th>3</th>\n",
       "      <td>/mnt/data/public/elections/nle2019/contests/44...</td>\n",
       "      <td>4438</td>\n",
       "      <td>MEMBER, SANGGUNIANG BAYAN ILOCOS NORTE - BANGU...</td>\n",
       "      <td>COUNCILOR</td>\n",
       "      <td>20966</td>\n",
       "      <td>DOLDOLEA, NORMA (NP)</td>\n",
       "      <td>NACIONALISTA PARTY</td>\n",
       "    </tr>\n",
       "    <tr>\n",
       "      <th>4</th>\n",
       "      <td>/mnt/data/public/elections/nle2019/contests/44...</td>\n",
       "      <td>4438</td>\n",
       "      <td>MEMBER, SANGGUNIANG BAYAN ILOCOS NORTE - BANGU...</td>\n",
       "      <td>COUNCILOR</td>\n",
       "      <td>20968</td>\n",
       "      <td>FAYLOGNA, SUSAN (NP)</td>\n",
       "      <td>NACIONALISTA PARTY</td>\n",
       "    </tr>\n",
       "  </tbody>\n",
       "</table>\n",
       "</div>"
      ],
      "text/plain": [
       "                                              c_file    cc  \\\n",
       "0  /mnt/data/public/elections/nle2019/contests/44...  4438   \n",
       "1  /mnt/data/public/elections/nle2019/contests/44...  4438   \n",
       "2  /mnt/data/public/elections/nle2019/contests/44...  4438   \n",
       "3  /mnt/data/public/elections/nle2019/contests/44...  4438   \n",
       "4  /mnt/data/public/elections/nle2019/contests/44...  4438   \n",
       "\n",
       "                                                  cn        ccn     bo  \\\n",
       "0  MEMBER, SANGGUNIANG BAYAN ILOCOS NORTE - BANGU...  COUNCILOR  20963   \n",
       "1  MEMBER, SANGGUNIANG BAYAN ILOCOS NORTE - BANGU...  COUNCILOR  20964   \n",
       "2  MEMBER, SANGGUNIANG BAYAN ILOCOS NORTE - BANGU...  COUNCILOR  20965   \n",
       "3  MEMBER, SANGGUNIANG BAYAN ILOCOS NORTE - BANGU...  COUNCILOR  20966   \n",
       "4  MEMBER, SANGGUNIANG BAYAN ILOCOS NORTE - BANGU...  COUNCILOR  20968   \n",
       "\n",
       "                       bon                  pn  \n",
       "0      ACOBA, ROGELIO (NP)  NACIONALISTA PARTY  \n",
       "1    BALBAG, ROGERICK (NP)  NACIONALISTA PARTY  \n",
       "2  CAMPAÑANO, ANTHONY (NP)  NACIONALISTA PARTY  \n",
       "3     DOLDOLEA, NORMA (NP)  NACIONALISTA PARTY  \n",
       "4     FAYLOGNA, SUSAN (NP)  NACIONALISTA PARTY  "
      ]
     },
     "execution_count": 9,
     "metadata": {},
     "output_type": "execute_result"
    }
   ],
   "source": [
    "df.head()"
   ]
  },
  {
   "cell_type": "code",
   "execution_count": 10,
   "metadata": {
    "ExecuteTime": {
     "end_time": "2020-03-09T10:31:56.001408Z",
     "start_time": "2020-03-09T10:31:55.994144Z"
    }
   },
   "outputs": [
    {
     "data": {
      "text/plain": [
       "(43451, 7)"
      ]
     },
     "execution_count": 10,
     "metadata": {},
     "output_type": "execute_result"
    }
   ],
   "source": [
    "df.shape"
   ]
  },
  {
   "cell_type": "markdown",
   "metadata": {
    "ExecuteTime": {
     "end_time": "2020-03-09T10:31:56.954257Z",
     "start_time": "2020-03-09T10:31:56.937077Z"
    }
   },
   "source": [
    "### Filter positions needed for analysis"
   ]
  },
  {
   "cell_type": "code",
   "execution_count": 12,
   "metadata": {
    "ExecuteTime": {
     "end_time": "2020-03-09T10:31:58.920503Z",
     "start_time": "2020-03-09T10:31:58.914734Z"
    }
   },
   "outputs": [],
   "source": [
    "positions_needed = ['SENATOR', 'PARTY LIST', 'MEMBER, HOUSE OF REPRESENTATIVES',\n",
    "                    'PROVINCIAL GOVERNOR', 'PROVINCIAL VICE-GOVERNOR',\n",
    "                    'MAYOR', 'VICE-MAYOR']"
   ]
  },
  {
   "cell_type": "code",
   "execution_count": 13,
   "metadata": {
    "ExecuteTime": {
     "end_time": "2020-03-09T10:31:59.431309Z",
     "start_time": "2020-03-09T10:31:59.413752Z"
    }
   },
   "outputs": [],
   "source": [
    "df = df[df.ccn.isin(positions_needed)]"
   ]
  },
  {
   "cell_type": "code",
   "execution_count": 14,
   "metadata": {
    "ExecuteTime": {
     "end_time": "2020-03-09T10:32:00.862432Z",
     "start_time": "2020-03-09T10:32:00.855089Z"
    }
   },
   "outputs": [
    {
     "data": {
      "text/plain": [
       "(8843, 7)"
      ]
     },
     "execution_count": 14,
     "metadata": {},
     "output_type": "execute_result"
    }
   ],
   "source": [
    "df.shape"
   ]
  },
  {
   "cell_type": "markdown",
   "metadata": {},
   "source": [
    "### Get all 2019 election result files"
   ]
  },
  {
   "cell_type": "code",
   "execution_count": 15,
   "metadata": {
    "ExecuteTime": {
     "end_time": "2020-03-09T10:32:05.411239Z",
     "start_time": "2020-03-09T10:32:01.722855Z"
    }
   },
   "outputs": [],
   "source": [
    "coc_files = glob.glob('/mnt/data/public/elections/nle2019/results/*/*/*/coc.json')"
   ]
  },
  {
   "cell_type": "code",
   "execution_count": 16,
   "metadata": {
    "ExecuteTime": {
     "end_time": "2020-03-09T10:32:06.189069Z",
     "start_time": "2020-03-09T10:32:06.178032Z"
    }
   },
   "outputs": [],
   "source": [
    "cocs = [[i] + i[43:].split('/')[:-1] for i in coc_files]"
   ]
  },
  {
   "cell_type": "code",
   "execution_count": 17,
   "metadata": {
    "ExecuteTime": {
     "end_time": "2020-03-09T10:32:06.337173Z",
     "start_time": "2020-03-09T10:32:06.318640Z"
    }
   },
   "outputs": [
    {
     "data": {
      "text/plain": [
       "['/mnt/data/public/elections/nle2019/results/REGION I/ILOCOS NORTE/ADAMS/coc.json',\n",
       " 'REGION I',\n",
       " 'ILOCOS NORTE',\n",
       " 'ADAMS']"
      ]
     },
     "execution_count": 17,
     "metadata": {},
     "output_type": "execute_result"
    }
   ],
   "source": [
    "cocs[0]"
   ]
  },
  {
   "cell_type": "code",
   "execution_count": 18,
   "metadata": {
    "ExecuteTime": {
     "end_time": "2020-03-09T10:32:07.232154Z",
     "start_time": "2020-03-09T10:32:07.224291Z"
    }
   },
   "outputs": [
    {
     "data": {
      "text/plain": [
       "1655"
      ]
     },
     "execution_count": 18,
     "metadata": {},
     "output_type": "execute_result"
    }
   ],
   "source": [
    "len(cocs)"
   ]
  },
  {
   "cell_type": "code",
   "execution_count": 19,
   "metadata": {
    "ExecuteTime": {
     "end_time": "2020-03-09T10:32:16.730525Z",
     "start_time": "2020-03-09T10:32:10.126402Z"
    }
   },
   "outputs": [
    {
     "name": "stdout",
     "output_type": "stream",
     "text": [
      "18:32:10.572379 - Finished 100 rows.\n",
      "18:32:11.049598 - Finished 200 rows.\n",
      "18:32:11.441989 - Finished 300 rows.\n",
      "18:32:11.861411 - Finished 400 rows.\n",
      "18:32:12.276664 - Finished 500 rows.\n",
      "18:32:12.704843 - Finished 600 rows.\n",
      "18:32:13.131572 - Finished 700 rows.\n",
      "18:32:13.512401 - Finished 800 rows.\n",
      "18:32:13.909030 - Finished 900 rows.\n",
      "18:32:14.284618 - Finished 1000 rows.\n",
      "18:32:14.645670 - Finished 1100 rows.\n",
      "18:32:15.030448 - Finished 1200 rows.\n",
      "18:32:15.398708 - Finished 1300 rows.\n",
      "18:32:15.783509 - Finished 1400 rows.\n",
      "18:32:16.122346 - Finished 1500 rows.\n",
      "18:32:16.487400 - Finished 1600 rows.\n"
     ]
    }
   ],
   "source": [
    "conn.executescript('''\n",
    "DROP TABLE IF EXISTS prep2_2019;\n",
    "CREATE TABLE prep2_2019 (\n",
    "    coc_file    VARCHAR,\n",
    "    region      VARCHAR,\n",
    "    province    VARCHAR,\n",
    "    city        VARCHAR,\n",
    "    cc          VARCHAR,\n",
    "    bo          VARCHAR,\n",
    "    v           VARCHAR,\n",
    "    tot         VARCHAR,\n",
    "    per         VARCHAR\n",
    ");\n",
    "''')\n",
    "conn.commit()\n",
    "\n",
    "i = 0\n",
    "for c in cocs:\n",
    "    with open(c[0], 'r') as file:\n",
    "        data = json.load(file)\n",
    "    for d in data['rs']:\n",
    "        values = tuple(list(c) + [d['cc'], d['bo'], d['v'], d['tot'], d['per']])\n",
    "        conn.execute('''INSERT INTO prep2_2019 VALUES (?, ?, ?, ?, ?, ?, ?, ?, ?)''', values)\n",
    "    i+=1\n",
    "    if i%100==0:\n",
    "        conn.commit()\n",
    "        print(datetime.datetime.now().time(), '- Finished', i, 'rows.')\n",
    "conn.commit()"
   ]
  },
  {
   "cell_type": "code",
   "execution_count": 20,
   "metadata": {
    "ExecuteTime": {
     "end_time": "2020-03-09T10:32:19.218531Z",
     "start_time": "2020-03-09T10:32:17.661489Z"
    }
   },
   "outputs": [],
   "source": [
    "df2 = pd.read_sql('SELECT * FROM prep2_2019', conn)"
   ]
  },
  {
   "cell_type": "code",
   "execution_count": 21,
   "metadata": {
    "ExecuteTime": {
     "end_time": "2020-03-09T10:32:19.756591Z",
     "start_time": "2020-03-09T10:32:19.748156Z"
    }
   },
   "outputs": [
    {
     "data": {
      "text/plain": [
       "(392551, 9)"
      ]
     },
     "execution_count": 21,
     "metadata": {},
     "output_type": "execute_result"
    }
   ],
   "source": [
    "df2.shape"
   ]
  },
  {
   "cell_type": "code",
   "execution_count": 22,
   "metadata": {
    "ExecuteTime": {
     "end_time": "2020-03-09T10:32:20.982249Z",
     "start_time": "2020-03-09T10:32:20.959572Z"
    }
   },
   "outputs": [
    {
     "data": {
      "text/html": [
       "<div>\n",
       "<style scoped>\n",
       "    .dataframe tbody tr th:only-of-type {\n",
       "        vertical-align: middle;\n",
       "    }\n",
       "\n",
       "    .dataframe tbody tr th {\n",
       "        vertical-align: top;\n",
       "    }\n",
       "\n",
       "    .dataframe thead th {\n",
       "        text-align: right;\n",
       "    }\n",
       "</style>\n",
       "<table border=\"1\" class=\"dataframe\">\n",
       "  <thead>\n",
       "    <tr style=\"text-align: right;\">\n",
       "      <th></th>\n",
       "      <th>coc_file</th>\n",
       "      <th>region</th>\n",
       "      <th>province</th>\n",
       "      <th>city</th>\n",
       "      <th>cc</th>\n",
       "      <th>bo</th>\n",
       "      <th>v</th>\n",
       "      <th>tot</th>\n",
       "      <th>per</th>\n",
       "    </tr>\n",
       "  </thead>\n",
       "  <tbody>\n",
       "    <tr>\n",
       "      <th>392546</th>\n",
       "      <td>/mnt/data/public/elections/nle2019/results/OAV...</td>\n",
       "      <td>OAV</td>\n",
       "      <td>EUROPE</td>\n",
       "      <td>ITALY</td>\n",
       "      <td>5567</td>\n",
       "      <td>43710</td>\n",
       "      <td>6</td>\n",
       "      <td>11629</td>\n",
       "      <td>0.05</td>\n",
       "    </tr>\n",
       "    <tr>\n",
       "      <th>392547</th>\n",
       "      <td>/mnt/data/public/elections/nle2019/results/OAV...</td>\n",
       "      <td>OAV</td>\n",
       "      <td>EUROPE</td>\n",
       "      <td>ITALY</td>\n",
       "      <td>5567</td>\n",
       "      <td>43711</td>\n",
       "      <td>6</td>\n",
       "      <td>11629</td>\n",
       "      <td>0.05</td>\n",
       "    </tr>\n",
       "    <tr>\n",
       "      <th>392548</th>\n",
       "      <td>/mnt/data/public/elections/nle2019/results/OAV...</td>\n",
       "      <td>OAV</td>\n",
       "      <td>EUROPE</td>\n",
       "      <td>ITALY</td>\n",
       "      <td>5567</td>\n",
       "      <td>43712</td>\n",
       "      <td>1</td>\n",
       "      <td>11629</td>\n",
       "      <td>0.00</td>\n",
       "    </tr>\n",
       "    <tr>\n",
       "      <th>392549</th>\n",
       "      <td>/mnt/data/public/elections/nle2019/results/OAV...</td>\n",
       "      <td>OAV</td>\n",
       "      <td>EUROPE</td>\n",
       "      <td>ITALY</td>\n",
       "      <td>5567</td>\n",
       "      <td>43713</td>\n",
       "      <td>15</td>\n",
       "      <td>11629</td>\n",
       "      <td>0.12</td>\n",
       "    </tr>\n",
       "    <tr>\n",
       "      <th>392550</th>\n",
       "      <td>/mnt/data/public/elections/nle2019/results/OAV...</td>\n",
       "      <td>OAV</td>\n",
       "      <td>EUROPE</td>\n",
       "      <td>ITALY</td>\n",
       "      <td>5567</td>\n",
       "      <td>43714</td>\n",
       "      <td>1149</td>\n",
       "      <td>11629</td>\n",
       "      <td>9.88</td>\n",
       "    </tr>\n",
       "  </tbody>\n",
       "</table>\n",
       "</div>"
      ],
      "text/plain": [
       "                                                 coc_file region province  \\\n",
       "392546  /mnt/data/public/elections/nle2019/results/OAV...    OAV   EUROPE   \n",
       "392547  /mnt/data/public/elections/nle2019/results/OAV...    OAV   EUROPE   \n",
       "392548  /mnt/data/public/elections/nle2019/results/OAV...    OAV   EUROPE   \n",
       "392549  /mnt/data/public/elections/nle2019/results/OAV...    OAV   EUROPE   \n",
       "392550  /mnt/data/public/elections/nle2019/results/OAV...    OAV   EUROPE   \n",
       "\n",
       "         city    cc     bo     v    tot   per  \n",
       "392546  ITALY  5567  43710     6  11629  0.05  \n",
       "392547  ITALY  5567  43711     6  11629  0.05  \n",
       "392548  ITALY  5567  43712     1  11629  0.00  \n",
       "392549  ITALY  5567  43713    15  11629  0.12  \n",
       "392550  ITALY  5567  43714  1149  11629  9.88  "
      ]
     },
     "execution_count": 22,
     "metadata": {},
     "output_type": "execute_result"
    }
   ],
   "source": [
    "df2.tail()"
   ]
  },
  {
   "cell_type": "code",
   "execution_count": 23,
   "metadata": {
    "ExecuteTime": {
     "end_time": "2020-03-09T10:32:24.587987Z",
     "start_time": "2020-03-09T10:32:24.580460Z"
    }
   },
   "outputs": [
    {
     "data": {
      "text/plain": [
       "(8843, 7)"
      ]
     },
     "execution_count": 23,
     "metadata": {},
     "output_type": "execute_result"
    }
   ],
   "source": [
    "df.shape"
   ]
  },
  {
   "cell_type": "code",
   "execution_count": 24,
   "metadata": {
    "ExecuteTime": {
     "end_time": "2020-03-09T10:32:26.036684Z",
     "start_time": "2020-03-09T10:32:26.014980Z"
    }
   },
   "outputs": [
    {
     "data": {
      "text/html": [
       "<div>\n",
       "<style scoped>\n",
       "    .dataframe tbody tr th:only-of-type {\n",
       "        vertical-align: middle;\n",
       "    }\n",
       "\n",
       "    .dataframe tbody tr th {\n",
       "        vertical-align: top;\n",
       "    }\n",
       "\n",
       "    .dataframe thead th {\n",
       "        text-align: right;\n",
       "    }\n",
       "</style>\n",
       "<table border=\"1\" class=\"dataframe\">\n",
       "  <thead>\n",
       "    <tr style=\"text-align: right;\">\n",
       "      <th></th>\n",
       "      <th>c_file</th>\n",
       "      <th>cc</th>\n",
       "      <th>cn</th>\n",
       "      <th>ccn</th>\n",
       "      <th>bo</th>\n",
       "      <th>bon</th>\n",
       "      <th>pn</th>\n",
       "    </tr>\n",
       "  </thead>\n",
       "  <tbody>\n",
       "    <tr>\n",
       "      <th>43446</th>\n",
       "      <td>/mnt/data/public/elections/nle2019/contests/21...</td>\n",
       "      <td>2187</td>\n",
       "      <td>MAYOR NCR - TAGUIG CITY</td>\n",
       "      <td>MAYOR</td>\n",
       "      <td>6701</td>\n",
       "      <td>CAYETANO, DIREK LINO (NP)</td>\n",
       "      <td>NACIONALISTA PARTY</td>\n",
       "    </tr>\n",
       "    <tr>\n",
       "      <th>43447</th>\n",
       "      <td>/mnt/data/public/elections/nle2019/contests/21...</td>\n",
       "      <td>2187</td>\n",
       "      <td>MAYOR NCR - TAGUIG CITY</td>\n",
       "      <td>MAYOR</td>\n",
       "      <td>6702</td>\n",
       "      <td>CERAFICA, ARNEL (PDPLBN)</td>\n",
       "      <td>PARTIDO DEMOKRATIKO PILIPINO LAKAS NG BAYAN</td>\n",
       "    </tr>\n",
       "    <tr>\n",
       "      <th>43448</th>\n",
       "      <td>/mnt/data/public/elections/nle2019/contests/21...</td>\n",
       "      <td>2187</td>\n",
       "      <td>MAYOR NCR - TAGUIG CITY</td>\n",
       "      <td>MAYOR</td>\n",
       "      <td>6700</td>\n",
       "      <td>ANDRADE, SONNY BOY (IND)</td>\n",
       "      <td>INDEPENDENT</td>\n",
       "    </tr>\n",
       "    <tr>\n",
       "      <th>43449</th>\n",
       "      <td>/mnt/data/public/elections/nle2019/contests/38...</td>\n",
       "      <td>3820</td>\n",
       "      <td>VICE-MAYOR NCR - TAGUIG CITY</td>\n",
       "      <td>VICE-MAYOR</td>\n",
       "      <td>10337</td>\n",
       "      <td>CRUZ, RICARDO JR. (NP)</td>\n",
       "      <td>NACIONALISTA PARTY</td>\n",
       "    </tr>\n",
       "    <tr>\n",
       "      <th>43450</th>\n",
       "      <td>/mnt/data/public/elections/nle2019/contests/38...</td>\n",
       "      <td>3820</td>\n",
       "      <td>VICE-MAYOR NCR - TAGUIG CITY</td>\n",
       "      <td>VICE-MAYOR</td>\n",
       "      <td>10338</td>\n",
       "      <td>DUEÑAS, JUN (PDPLBN)</td>\n",
       "      <td>PARTIDO DEMOKRATIKO PILIPINO LAKAS NG BAYAN</td>\n",
       "    </tr>\n",
       "  </tbody>\n",
       "</table>\n",
       "</div>"
      ],
      "text/plain": [
       "                                                  c_file    cc  \\\n",
       "43446  /mnt/data/public/elections/nle2019/contests/21...  2187   \n",
       "43447  /mnt/data/public/elections/nle2019/contests/21...  2187   \n",
       "43448  /mnt/data/public/elections/nle2019/contests/21...  2187   \n",
       "43449  /mnt/data/public/elections/nle2019/contests/38...  3820   \n",
       "43450  /mnt/data/public/elections/nle2019/contests/38...  3820   \n",
       "\n",
       "                                 cn         ccn     bo  \\\n",
       "43446       MAYOR NCR - TAGUIG CITY       MAYOR   6701   \n",
       "43447       MAYOR NCR - TAGUIG CITY       MAYOR   6702   \n",
       "43448       MAYOR NCR - TAGUIG CITY       MAYOR   6700   \n",
       "43449  VICE-MAYOR NCR - TAGUIG CITY  VICE-MAYOR  10337   \n",
       "43450  VICE-MAYOR NCR - TAGUIG CITY  VICE-MAYOR  10338   \n",
       "\n",
       "                             bon                                           pn  \n",
       "43446  CAYETANO, DIREK LINO (NP)                           NACIONALISTA PARTY  \n",
       "43447   CERAFICA, ARNEL (PDPLBN)  PARTIDO DEMOKRATIKO PILIPINO LAKAS NG BAYAN  \n",
       "43448   ANDRADE, SONNY BOY (IND)                                  INDEPENDENT  \n",
       "43449     CRUZ, RICARDO JR. (NP)                           NACIONALISTA PARTY  \n",
       "43450       DUEÑAS, JUN (PDPLBN)  PARTIDO DEMOKRATIKO PILIPINO LAKAS NG BAYAN  "
      ]
     },
     "execution_count": 24,
     "metadata": {},
     "output_type": "execute_result"
    }
   ],
   "source": [
    "df.tail()"
   ]
  },
  {
   "cell_type": "markdown",
   "metadata": {},
   "source": [
    "### Merge contest and results dataframes"
   ]
  },
  {
   "cell_type": "code",
   "execution_count": 25,
   "metadata": {
    "ExecuteTime": {
     "end_time": "2020-03-09T10:32:31.102513Z",
     "start_time": "2020-03-09T10:32:30.439653Z"
    }
   },
   "outputs": [],
   "source": [
    "df3 = pd.merge(df2, df)"
   ]
  },
  {
   "cell_type": "code",
   "execution_count": 26,
   "metadata": {
    "ExecuteTime": {
     "end_time": "2020-03-09T10:32:31.819305Z",
     "start_time": "2020-03-09T10:32:31.789960Z"
    }
   },
   "outputs": [
    {
     "data": {
      "text/html": [
       "<div>\n",
       "<style scoped>\n",
       "    .dataframe tbody tr th:only-of-type {\n",
       "        vertical-align: middle;\n",
       "    }\n",
       "\n",
       "    .dataframe tbody tr th {\n",
       "        vertical-align: top;\n",
       "    }\n",
       "\n",
       "    .dataframe thead th {\n",
       "        text-align: right;\n",
       "    }\n",
       "</style>\n",
       "<table border=\"1\" class=\"dataframe\">\n",
       "  <thead>\n",
       "    <tr style=\"text-align: right;\">\n",
       "      <th></th>\n",
       "      <th>coc_file</th>\n",
       "      <th>region</th>\n",
       "      <th>province</th>\n",
       "      <th>city</th>\n",
       "      <th>cc</th>\n",
       "      <th>bo</th>\n",
       "      <th>v</th>\n",
       "      <th>tot</th>\n",
       "      <th>per</th>\n",
       "      <th>c_file</th>\n",
       "      <th>cn</th>\n",
       "      <th>ccn</th>\n",
       "      <th>bon</th>\n",
       "      <th>pn</th>\n",
       "    </tr>\n",
       "  </thead>\n",
       "  <tbody>\n",
       "    <tr>\n",
       "      <th>0</th>\n",
       "      <td>/mnt/data/public/elections/nle2019/results/REG...</td>\n",
       "      <td>REGION I</td>\n",
       "      <td>ILOCOS NORTE</td>\n",
       "      <td>ADAMS</td>\n",
       "      <td>1</td>\n",
       "      <td>1</td>\n",
       "      <td>6</td>\n",
       "      <td>5366</td>\n",
       "      <td>0.11</td>\n",
       "      <td>/mnt/data/public/elections/nle2019/contests/1....</td>\n",
       "      <td>SENATOR PHILIPPINES</td>\n",
       "      <td>SENATOR</td>\n",
       "      <td>ABEJO, VANGIE (IND)</td>\n",
       "      <td>LGBTQ PARTY</td>\n",
       "    </tr>\n",
       "    <tr>\n",
       "      <th>1</th>\n",
       "      <td>/mnt/data/public/elections/nle2019/results/REG...</td>\n",
       "      <td>REGION I</td>\n",
       "      <td>ILOCOS NORTE</td>\n",
       "      <td>BACARRA</td>\n",
       "      <td>1</td>\n",
       "      <td>1</td>\n",
       "      <td>89</td>\n",
       "      <td>87217</td>\n",
       "      <td>0.10</td>\n",
       "      <td>/mnt/data/public/elections/nle2019/contests/1....</td>\n",
       "      <td>SENATOR PHILIPPINES</td>\n",
       "      <td>SENATOR</td>\n",
       "      <td>ABEJO, VANGIE (IND)</td>\n",
       "      <td>LGBTQ PARTY</td>\n",
       "    </tr>\n",
       "  </tbody>\n",
       "</table>\n",
       "</div>"
      ],
      "text/plain": [
       "                                            coc_file    region      province  \\\n",
       "0  /mnt/data/public/elections/nle2019/results/REG...  REGION I  ILOCOS NORTE   \n",
       "1  /mnt/data/public/elections/nle2019/results/REG...  REGION I  ILOCOS NORTE   \n",
       "\n",
       "      city cc bo   v    tot   per  \\\n",
       "0    ADAMS  1  1   6   5366  0.11   \n",
       "1  BACARRA  1  1  89  87217  0.10   \n",
       "\n",
       "                                              c_file                   cn  \\\n",
       "0  /mnt/data/public/elections/nle2019/contests/1....  SENATOR PHILIPPINES   \n",
       "1  /mnt/data/public/elections/nle2019/contests/1....  SENATOR PHILIPPINES   \n",
       "\n",
       "       ccn                  bon           pn  \n",
       "0  SENATOR  ABEJO, VANGIE (IND)  LGBTQ PARTY  \n",
       "1  SENATOR  ABEJO, VANGIE (IND)  LGBTQ PARTY  "
      ]
     },
     "execution_count": 26,
     "metadata": {},
     "output_type": "execute_result"
    }
   ],
   "source": [
    "df3.head(2)"
   ]
  },
  {
   "cell_type": "code",
   "execution_count": 27,
   "metadata": {
    "ExecuteTime": {
     "end_time": "2020-03-09T10:32:37.747544Z",
     "start_time": "2020-03-09T10:32:37.361789Z"
    }
   },
   "outputs": [],
   "source": [
    "df4 = df3[['c_file', 'coc_file', 'region', 'province', 'city', 'cn', 'ccn', 'bon', 'pn', 'v', 'tot', 'per']]"
   ]
  },
  {
   "cell_type": "code",
   "execution_count": 28,
   "metadata": {
    "ExecuteTime": {
     "end_time": "2020-03-09T10:32:41.878837Z",
     "start_time": "2020-03-09T10:32:38.998323Z"
    }
   },
   "outputs": [],
   "source": [
    "df4.to_sql('prep3_2019', conn, if_exists='replace', index=False)"
   ]
  },
  {
   "cell_type": "code",
   "execution_count": 29,
   "metadata": {
    "ExecuteTime": {
     "end_time": "2020-03-09T10:33:25.320452Z",
     "start_time": "2020-03-09T10:33:25.237926Z"
    }
   },
   "outputs": [],
   "source": [
    "df5 = df4.copy()"
   ]
  },
  {
   "cell_type": "code",
   "execution_count": 30,
   "metadata": {
    "ExecuteTime": {
     "end_time": "2020-03-09T10:33:27.849084Z",
     "start_time": "2020-03-09T10:33:27.726049Z"
    }
   },
   "outputs": [],
   "source": [
    "df5 = df5[['region', 'province', 'city', 'ccn', 'bon', 'pn', 'v', 'tot', 'per']]\n",
    "df5.columns = ['region', 'province', 'city', 'position', 'candidate', \n",
    "               'candidate_party', 'votes', 'total_votes', 'percentage']"
   ]
  },
  {
   "cell_type": "markdown",
   "metadata": {},
   "source": [
    "### Convert votes and total_votes to integer, percentage to float"
   ]
  },
  {
   "cell_type": "code",
   "execution_count": 31,
   "metadata": {
    "ExecuteTime": {
     "end_time": "2020-03-09T10:33:35.918081Z",
     "start_time": "2020-03-09T10:33:35.905480Z"
    }
   },
   "outputs": [
    {
     "data": {
      "text/plain": [
       "region             object\n",
       "province           object\n",
       "city               object\n",
       "position           object\n",
       "candidate          object\n",
       "candidate_party    object\n",
       "votes              object\n",
       "total_votes        object\n",
       "percentage         object\n",
       "dtype: object"
      ]
     },
     "execution_count": 31,
     "metadata": {},
     "output_type": "execute_result"
    }
   ],
   "source": [
    "df5.dtypes"
   ]
  },
  {
   "cell_type": "code",
   "execution_count": 32,
   "metadata": {
    "ExecuteTime": {
     "end_time": "2020-03-09T10:33:42.487886Z",
     "start_time": "2020-03-09T10:33:42.013282Z"
    }
   },
   "outputs": [],
   "source": [
    "df5.votes = df5.votes.astype(int)\n",
    "df5.total_votes = df5.total_votes.astype(int)\n",
    "df5.percentage = df5.percentage.astype(float)\n",
    "df5.percentage = df5.percentage/100"
   ]
  },
  {
   "cell_type": "code",
   "execution_count": 38,
   "metadata": {
    "ExecuteTime": {
     "end_time": "2020-03-09T10:37:52.129721Z",
     "start_time": "2020-03-09T10:37:52.106045Z"
    }
   },
   "outputs": [
    {
     "data": {
      "text/html": [
       "<div>\n",
       "<style scoped>\n",
       "    .dataframe tbody tr th:only-of-type {\n",
       "        vertical-align: middle;\n",
       "    }\n",
       "\n",
       "    .dataframe tbody tr th {\n",
       "        vertical-align: top;\n",
       "    }\n",
       "\n",
       "    .dataframe thead th {\n",
       "        text-align: right;\n",
       "    }\n",
       "</style>\n",
       "<table border=\"1\" class=\"dataframe\">\n",
       "  <thead>\n",
       "    <tr style=\"text-align: right;\">\n",
       "      <th></th>\n",
       "      <th>region</th>\n",
       "      <th>province</th>\n",
       "      <th>city</th>\n",
       "      <th>position</th>\n",
       "      <th>candidate</th>\n",
       "      <th>candidate_party</th>\n",
       "      <th>votes</th>\n",
       "      <th>total_votes</th>\n",
       "      <th>percentage</th>\n",
       "    </tr>\n",
       "  </thead>\n",
       "  <tbody>\n",
       "    <tr>\n",
       "      <th>0</th>\n",
       "      <td>REGION I</td>\n",
       "      <td>ILOCOS NORTE</td>\n",
       "      <td>ADAMS</td>\n",
       "      <td>SENATOR</td>\n",
       "      <td>ABEJO, VANGIE (IND)</td>\n",
       "      <td>LGBTQ PARTY</td>\n",
       "      <td>6</td>\n",
       "      <td>5366</td>\n",
       "      <td>0.0011</td>\n",
       "    </tr>\n",
       "    <tr>\n",
       "      <th>1</th>\n",
       "      <td>REGION I</td>\n",
       "      <td>ILOCOS NORTE</td>\n",
       "      <td>BACARRA</td>\n",
       "      <td>SENATOR</td>\n",
       "      <td>ABEJO, VANGIE (IND)</td>\n",
       "      <td>LGBTQ PARTY</td>\n",
       "      <td>89</td>\n",
       "      <td>87217</td>\n",
       "      <td>0.0010</td>\n",
       "    </tr>\n",
       "  </tbody>\n",
       "</table>\n",
       "</div>"
      ],
      "text/plain": [
       "     region      province     city position            candidate  \\\n",
       "0  REGION I  ILOCOS NORTE    ADAMS  SENATOR  ABEJO, VANGIE (IND)   \n",
       "1  REGION I  ILOCOS NORTE  BACARRA  SENATOR  ABEJO, VANGIE (IND)   \n",
       "\n",
       "  candidate_party  votes  total_votes  percentage  \n",
       "0     LGBTQ PARTY      6         5366      0.0011  \n",
       "1     LGBTQ PARTY     89        87217      0.0010  "
      ]
     },
     "execution_count": 38,
     "metadata": {},
     "output_type": "execute_result"
    }
   ],
   "source": [
    "df5.head(2)"
   ]
  },
  {
   "cell_type": "markdown",
   "metadata": {},
   "source": [
    "### Load final city-level 2019 election votes data to sqlite3 table and pickle file"
   ]
  },
  {
   "cell_type": "code",
   "execution_count": 39,
   "metadata": {
    "ExecuteTime": {
     "end_time": "2020-03-09T10:38:11.188421Z",
     "start_time": "2020-03-09T10:38:09.371692Z"
    }
   },
   "outputs": [],
   "source": [
    "df5.to_sql('city_votes_2019', conn, if_exists='replace', index=False)"
   ]
  },
  {
   "cell_type": "code",
   "execution_count": 40,
   "metadata": {
    "ExecuteTime": {
     "end_time": "2020-03-09T10:38:13.990222Z",
     "start_time": "2020-03-09T10:38:13.455405Z"
    }
   },
   "outputs": [],
   "source": [
    "with open('city_votes_2019.pkl', 'wb') as f:\n",
    "    pickle.dump(df5, f)"
   ]
  },
  {
   "cell_type": "code",
   "execution_count": null,
   "metadata": {},
   "outputs": [],
   "source": []
  }
 ],
 "metadata": {
  "kernelspec": {
   "display_name": "Python 3",
   "language": "python",
   "name": "python3"
  },
  "language_info": {
   "codemirror_mode": {
    "name": "ipython",
    "version": 3
   },
   "file_extension": ".py",
   "mimetype": "text/x-python",
   "name": "python",
   "nbconvert_exporter": "python",
   "pygments_lexer": "ipython3",
   "version": "3.7.3"
  }
 },
 "nbformat": 4,
 "nbformat_minor": 2
}
